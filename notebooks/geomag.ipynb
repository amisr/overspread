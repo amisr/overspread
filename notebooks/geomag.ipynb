{
 "cells": [
  {
   "cell_type": "markdown",
   "metadata": {},
   "source": [
    "# **geomag: The use of apexpy (Modified Apex Coordinate System) in the AMISR fitter**\n",
    "\n",
    "The purpose of this notebook is to provide a brief explanation of how the Modified Apex Coordinate system, as implemented in [apexpy](https://github.com/aburrell/apexpy), is used in the AMISR overspread fitting software. For more details, see the references at the end of this notebook."
   ]
  },
  {
   "cell_type": "markdown",
   "metadata": {},
   "source": [
    "## **Modified Apex Coordinates**\n",
    "The modified apex coordinate system is a non-orthogonal coordinate system based on the IGRF magnetic field model. Coordinates and base vectors for the modified apex coordinate system are provided by the apexpy python package. All of the geomagnetic coordinate and vector transformations are performed in the `geomag.py` file.\n",
    "\n",
    "**Note**: Modified apex base vectors are not *basis vectors*, but instead **scaled**-basis vectors.\n",
    "\n",
    "### **kvece and kvecd**\n",
    "\n",
    "`kvece` and `kvecd` are defined following equations 60 and 61 in Laundal and Richmond (2017):\n",
    "\n",
    "$$\n",
    "\\mathbf{v} = v_{e1}\\mathbf{e_1} + v_{e2}\\mathbf{e_2} + v_{e3}\\mathbf{e_3} = (\\mathbf{v} \\cdot \\mathbf{d_1})\\mathbf{e_1} + (\\mathbf{v} \\cdot \\mathbf{d_2})\\mathbf{e_2} + (\\mathbf{v} \\cdot \\mathbf{d_3})\\mathbf{e_3}\n",
    "$$\n",
    "\n",
    "$$\n",
    "\\mathbf{v} = v_{d1}\\mathbf{d_1} + v_{d2}\\mathbf{d_2} + v_{d3}\\mathbf{d_3} = (\\mathbf{v} \\cdot \\mathbf{e_1})\\mathbf{d_1} + (\\mathbf{v} \\cdot \\mathbf{e_2})\\mathbf{d_2} + (\\mathbf{v} \\cdot \\mathbf{e_3})\\mathbf{d_3}\n",
    "$$\n",
    "\n",
    "so with the radar k-vector in geodetic coordinate, $k_{geo}$:\n",
    "\n",
    "$$\n",
    "\\mathbf{kvecd} = (\\mathbf{k_{geo}} \\cdot \\mathbf{e_1})\\mathbf{d_1} + (\\mathbf{k_{geo}} \\cdot \\mathbf{e_2})\\mathbf{d_2} + (\\mathbf{k_{geo}} \\cdot \\mathbf{e_3})\\mathbf{d_3}\n",
    "$$\n",
    "\n",
    "$$\n",
    "\\mathbf{kvece} = (\\mathbf{k_{geo}} \\cdot \\mathbf{d_1})\\mathbf{e_1} + (\\mathbf{k_{geo}} \\cdot \\mathbf{d_2})\\mathbf{e_2} + (\\mathbf{k_{geo}} \\cdot \\mathbf{d_3})\\mathbf{e_3}\n",
    "$$\n",
    "\n",
    "**Note**: The components of `kvece` and `kvecd`, 1, 2, and 3, correspond to approximately Eastward perpendicular to the magnetic field, equatorward perpendicular to the magnetic field, and along the magnetic field."
   ]
  },
  {
   "cell_type": "markdown",
   "metadata": {},
   "source": [
    "### **Legacy kgmag: kpn, kpe, kpar**\n",
    "\n",
    "The original geomagnetic k-vector saved to the fitted files was produced using `geolib`, a corrected geomagnetic coordinate system code (also known as PACE). This coordinate system was orthogonal. For Legacy reasons, we wanted to reproduce an equivalent `kgmag` using the modified apex base vectors. For\n",
    "\n",
    "$$\n",
    "\\mathbf{kgmag} = (\\text{kpn},\\text{kpe},\\text{kpar})\n",
    "$$\n",
    "\n",
    "we obtain components of `kgmag` with the following definitions:\n",
    "\n",
    "$$\n",
    "\\text{kpn} = \\frac{-\\text{kvece}_2}{|\\mathbf{d}_2|}\n",
    "$$\n",
    "\n",
    "$$\n",
    "\\text{kpe} = \\frac{\\text{kvece}_1}{|\\mathbf{d}_1|}\n",
    "$$\n",
    "\n",
    "$$\n",
    "\\text{kpar} = \\frac{-\\text{kvece}_3}{|\\mathbf{d}_3|}\n",
    "$$\n",
    "\n",
    "**Note**: Confusingly, the $\\mathbf{kpar}$ in the fitted files is actually positive in the Anti-Parallel direction.\n",
    "\n",
    "**Note**: $\\mathbf{kvece}$ was chosen instead of $\\mathbf{kvecd}$ so that the East component corresponds with the East-West alignment of auroral arcs seen at PFISR."
   ]
  },
  {
   "cell_type": "markdown",
   "metadata": {},
   "source": [
    "## **References and Further Reading**"
   ]
  },
  {
   "cell_type": "markdown",
   "metadata": {},
   "source": [
    "* __[Arfken 2017](https://www.elsevier.com/books/mathematical-methods-for-physicists/arfken/978-0-12-384654-9): Mathematical Methods for Physicists__\n",
    "    * A useful textbook for learning about working with non-orthogonal coordinate systems, including vector transformations.\n",
    "    * The definition of covariant and contravariant basis vectors is presented.\n",
    "* __[Richmond 1995](https://www.jstage.jst.go.jp/article/jgg1949/47/2/47_2_191/_article): Ionospheric Electrodynamics Using Magnetic Apex Coordinates__\n",
    "    * The orignal publication about the Modified Apex coordinate system\n",
    "    * Section 4: Discusses the purpose of defining the scaled basis vectors\n",
    "* __[Laundal and Richmond 2016](https://link.springer.com/article/10.1007/s11214-016-0275-y): Magnetic Coordinate Systems__\n",
    "    * A review paper discussing many different magnetic coordinate systems used in geospace research.\n",
    "    * Section 5: Introduces vectors in non-othogonal basis vectors in general, then discusses the scaled basis vectors used in the Modified Apex coordinate system\n",
    "    * Section 6: Discusses using the $\\mathbf{e}$ and $\\mathbf{d}$ base vectors.\n",
    "* __[Emmert et al. 2010](https://agupubs.onlinelibrary.wiley.com/doi/full/10.1029/2010JA015326): A computationally compact representation of Magnetic‐Apex and Quasi‐Dipole coordinates with smooth base vectors__\n",
    "    * The publication that discusses the spherical harmonic fitting used to provide very fast coordinate and vector transformations into and out of the Modified Apex coordinate system\n"
   ]
  }
 ],
 "metadata": {
  "kernelspec": {
   "display_name": "Python 3",
   "language": "python",
   "name": "python3"
  },
  "language_info": {
   "codemirror_mode": {
    "name": "ipython",
    "version": 3
   },
   "file_extension": ".py",
   "mimetype": "text/x-python",
   "name": "python",
   "nbconvert_exporter": "python",
   "pygments_lexer": "ipython3",
   "version": "3.7.12"
  }
 },
 "nbformat": 4,
 "nbformat_minor": 4
}
